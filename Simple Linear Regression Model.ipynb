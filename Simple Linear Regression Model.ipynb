{
 "cells": [
  {
   "cell_type": "markdown",
   "id": "5475a681",
   "metadata": {},
   "source": [
    "# Simple Linear Regression model for Salary dataset\n",
    "\n",
    "YearsExperience-empolyee experience which will give in years from\n",
    "\n",
    "Salary-empolyee Salary which depend on Years of Experience\n"
   ]
  },
  {
   "cell_type": "code",
   "execution_count": 1,
   "id": "c9776f9e",
   "metadata": {},
   "outputs": [],
   "source": [
    "import sklearn\n",
    "import pandas as pd\n",
    "import seaborn as sns\n",
    "from sklearn.model_selection import train_test_split#create of training and testing set\n",
    "from sklearn.linear_model import LinearRegression#model\n",
    "import numpy as np\n",
    "import matplotlib.pyplot as plt"
   ]
  },
  {
   "cell_type": "markdown",
   "id": "d70c82d9",
   "metadata": {},
   "source": [
    "# import dataset"
   ]
  },
  {
   "cell_type": "code",
   "execution_count": 2,
   "id": "7639818f",
   "metadata": {},
   "outputs": [
    {
     "data": {
      "text/html": [
       "<div>\n",
       "<style scoped>\n",
       "    .dataframe tbody tr th:only-of-type {\n",
       "        vertical-align: middle;\n",
       "    }\n",
       "\n",
       "    .dataframe tbody tr th {\n",
       "        vertical-align: top;\n",
       "    }\n",
       "\n",
       "    .dataframe thead th {\n",
       "        text-align: right;\n",
       "    }\n",
       "</style>\n",
       "<table border=\"1\" class=\"dataframe\">\n",
       "  <thead>\n",
       "    <tr style=\"text-align: right;\">\n",
       "      <th></th>\n",
       "      <th>YearsExperience</th>\n",
       "      <th>Salary</th>\n",
       "    </tr>\n",
       "  </thead>\n",
       "  <tbody>\n",
       "    <tr>\n",
       "      <th>0</th>\n",
       "      <td>1.1</td>\n",
       "      <td>39343.0</td>\n",
       "    </tr>\n",
       "    <tr>\n",
       "      <th>1</th>\n",
       "      <td>1.3</td>\n",
       "      <td>46205.0</td>\n",
       "    </tr>\n",
       "    <tr>\n",
       "      <th>2</th>\n",
       "      <td>1.5</td>\n",
       "      <td>37731.0</td>\n",
       "    </tr>\n",
       "    <tr>\n",
       "      <th>3</th>\n",
       "      <td>2.0</td>\n",
       "      <td>43525.0</td>\n",
       "    </tr>\n",
       "    <tr>\n",
       "      <th>4</th>\n",
       "      <td>2.2</td>\n",
       "      <td>39891.0</td>\n",
       "    </tr>\n",
       "    <tr>\n",
       "      <th>5</th>\n",
       "      <td>2.9</td>\n",
       "      <td>56642.0</td>\n",
       "    </tr>\n",
       "    <tr>\n",
       "      <th>6</th>\n",
       "      <td>3.0</td>\n",
       "      <td>60150.0</td>\n",
       "    </tr>\n",
       "    <tr>\n",
       "      <th>7</th>\n",
       "      <td>3.2</td>\n",
       "      <td>54445.0</td>\n",
       "    </tr>\n",
       "    <tr>\n",
       "      <th>8</th>\n",
       "      <td>3.2</td>\n",
       "      <td>64445.0</td>\n",
       "    </tr>\n",
       "    <tr>\n",
       "      <th>9</th>\n",
       "      <td>3.7</td>\n",
       "      <td>57189.0</td>\n",
       "    </tr>\n",
       "    <tr>\n",
       "      <th>10</th>\n",
       "      <td>3.9</td>\n",
       "      <td>63218.0</td>\n",
       "    </tr>\n",
       "    <tr>\n",
       "      <th>11</th>\n",
       "      <td>4.0</td>\n",
       "      <td>55794.0</td>\n",
       "    </tr>\n",
       "    <tr>\n",
       "      <th>12</th>\n",
       "      <td>4.0</td>\n",
       "      <td>56957.0</td>\n",
       "    </tr>\n",
       "    <tr>\n",
       "      <th>13</th>\n",
       "      <td>4.1</td>\n",
       "      <td>57081.0</td>\n",
       "    </tr>\n",
       "    <tr>\n",
       "      <th>14</th>\n",
       "      <td>4.5</td>\n",
       "      <td>61111.0</td>\n",
       "    </tr>\n",
       "    <tr>\n",
       "      <th>15</th>\n",
       "      <td>4.9</td>\n",
       "      <td>67938.0</td>\n",
       "    </tr>\n",
       "    <tr>\n",
       "      <th>16</th>\n",
       "      <td>5.1</td>\n",
       "      <td>66029.0</td>\n",
       "    </tr>\n",
       "    <tr>\n",
       "      <th>17</th>\n",
       "      <td>5.3</td>\n",
       "      <td>83088.0</td>\n",
       "    </tr>\n",
       "    <tr>\n",
       "      <th>18</th>\n",
       "      <td>5.9</td>\n",
       "      <td>81363.0</td>\n",
       "    </tr>\n",
       "    <tr>\n",
       "      <th>19</th>\n",
       "      <td>6.0</td>\n",
       "      <td>93940.0</td>\n",
       "    </tr>\n",
       "    <tr>\n",
       "      <th>20</th>\n",
       "      <td>6.8</td>\n",
       "      <td>91738.0</td>\n",
       "    </tr>\n",
       "    <tr>\n",
       "      <th>21</th>\n",
       "      <td>7.1</td>\n",
       "      <td>98273.0</td>\n",
       "    </tr>\n",
       "    <tr>\n",
       "      <th>22</th>\n",
       "      <td>7.9</td>\n",
       "      <td>101302.0</td>\n",
       "    </tr>\n",
       "    <tr>\n",
       "      <th>23</th>\n",
       "      <td>8.2</td>\n",
       "      <td>113812.0</td>\n",
       "    </tr>\n",
       "    <tr>\n",
       "      <th>24</th>\n",
       "      <td>8.7</td>\n",
       "      <td>109431.0</td>\n",
       "    </tr>\n",
       "    <tr>\n",
       "      <th>25</th>\n",
       "      <td>9.0</td>\n",
       "      <td>105582.0</td>\n",
       "    </tr>\n",
       "    <tr>\n",
       "      <th>26</th>\n",
       "      <td>9.5</td>\n",
       "      <td>116969.0</td>\n",
       "    </tr>\n",
       "    <tr>\n",
       "      <th>27</th>\n",
       "      <td>9.6</td>\n",
       "      <td>112635.0</td>\n",
       "    </tr>\n",
       "    <tr>\n",
       "      <th>28</th>\n",
       "      <td>10.3</td>\n",
       "      <td>122391.0</td>\n",
       "    </tr>\n",
       "    <tr>\n",
       "      <th>29</th>\n",
       "      <td>10.5</td>\n",
       "      <td>121872.0</td>\n",
       "    </tr>\n",
       "  </tbody>\n",
       "</table>\n",
       "</div>"
      ],
      "text/plain": [
       "    YearsExperience    Salary\n",
       "0               1.1   39343.0\n",
       "1               1.3   46205.0\n",
       "2               1.5   37731.0\n",
       "3               2.0   43525.0\n",
       "4               2.2   39891.0\n",
       "5               2.9   56642.0\n",
       "6               3.0   60150.0\n",
       "7               3.2   54445.0\n",
       "8               3.2   64445.0\n",
       "9               3.7   57189.0\n",
       "10              3.9   63218.0\n",
       "11              4.0   55794.0\n",
       "12              4.0   56957.0\n",
       "13              4.1   57081.0\n",
       "14              4.5   61111.0\n",
       "15              4.9   67938.0\n",
       "16              5.1   66029.0\n",
       "17              5.3   83088.0\n",
       "18              5.9   81363.0\n",
       "19              6.0   93940.0\n",
       "20              6.8   91738.0\n",
       "21              7.1   98273.0\n",
       "22              7.9  101302.0\n",
       "23              8.2  113812.0\n",
       "24              8.7  109431.0\n",
       "25              9.0  105582.0\n",
       "26              9.5  116969.0\n",
       "27              9.6  112635.0\n",
       "28             10.3  122391.0\n",
       "29             10.5  121872.0"
      ]
     },
     "execution_count": 2,
     "metadata": {},
     "output_type": "execute_result"
    }
   ],
   "source": [
    "df=pd.read_csv('Salary_Data.csv')\n",
    "df"
   ]
  },
  {
   "cell_type": "markdown",
   "id": "2675ea06",
   "metadata": {},
   "source": [
    "# check the data information"
   ]
  },
  {
   "cell_type": "code",
   "execution_count": 3,
   "id": "21699208",
   "metadata": {},
   "outputs": [
    {
     "data": {
      "text/plain": [
       "(30, 2)"
      ]
     },
     "execution_count": 3,
     "metadata": {},
     "output_type": "execute_result"
    }
   ],
   "source": [
    "df.shape"
   ]
  },
  {
   "cell_type": "code",
   "execution_count": 4,
   "id": "2f7042a5",
   "metadata": {},
   "outputs": [
    {
     "name": "stdout",
     "output_type": "stream",
     "text": [
      "<class 'pandas.core.frame.DataFrame'>\n",
      "RangeIndex: 30 entries, 0 to 29\n",
      "Data columns (total 2 columns):\n",
      " #   Column           Non-Null Count  Dtype  \n",
      "---  ------           --------------  -----  \n",
      " 0   YearsExperience  30 non-null     float64\n",
      " 1   Salary           30 non-null     float64\n",
      "dtypes: float64(2)\n",
      "memory usage: 608.0 bytes\n"
     ]
    }
   ],
   "source": [
    "df.info()"
   ]
  },
  {
   "cell_type": "code",
   "execution_count": 5,
   "id": "6d7b5815",
   "metadata": {},
   "outputs": [
    {
     "data": {
      "text/plain": [
       "<seaborn.axisgrid.FacetGrid at 0x21a5e02ad00>"
      ]
     },
     "execution_count": 5,
     "metadata": {},
     "output_type": "execute_result"
    },
    {
     "data": {
      "image/png": "[encoded data removed]",
      "text/plain": [
       "<Figure size 360x360 with 1 Axes>"
      ]
     },
     "metadata": {
      "needs_background": "light"
     },
     "output_type": "display_data"
    }
   ],
   "source": [
    "sns.relplot(x=\"YearsExperience\",y=\"Salary\",data=df)"
   ]
  },
  {
   "cell_type": "markdown",
   "id": "6068a84d",
   "metadata": {},
   "source": [
    " # Calculate correlation"
   ]
  },
  {
   "cell_type": "code",
   "execution_count": 6,
   "id": "5ca40f74",
   "metadata": {},
   "outputs": [
    {
     "data": {
      "text/html": [
       "<div>\n",
       "<style scoped>\n",
       "    .dataframe tbody tr th:only-of-type {\n",
       "        vertical-align: middle;\n",
       "    }\n",
       "\n",
       "    .dataframe tbody tr th {\n",
       "        vertical-align: top;\n",
       "    }\n",
       "\n",
       "    .dataframe thead th {\n",
       "        text-align: right;\n",
       "    }\n",
       "</style>\n",
       "<table border=\"1\" class=\"dataframe\">\n",
       "  <thead>\n",
       "    <tr style=\"text-align: right;\">\n",
       "      <th></th>\n",
       "      <th>YearsExperience</th>\n",
       "      <th>Salary</th>\n",
       "    </tr>\n",
       "  </thead>\n",
       "  <tbody>\n",
       "    <tr>\n",
       "      <th>YearsExperience</th>\n",
       "      <td>1.000000</td>\n",
       "      <td>0.978242</td>\n",
       "    </tr>\n",
       "    <tr>\n",
       "      <th>Salary</th>\n",
       "      <td>0.978242</td>\n",
       "      <td>1.000000</td>\n",
       "    </tr>\n",
       "  </tbody>\n",
       "</table>\n",
       "</div>"
      ],
      "text/plain": [
       "                 YearsExperience    Salary\n",
       "YearsExperience         1.000000  0.978242\n",
       "Salary                  0.978242  1.000000"
      ]
     },
     "execution_count": 6,
     "metadata": {},
     "output_type": "execute_result"
    }
   ],
   "source": [
    "df.corr()"
   ]
  },
  {
   "cell_type": "code",
   "execution_count": 7,
   "id": "46f78d14",
   "metadata": {},
   "outputs": [
    {
     "name": "stderr",
     "output_type": "stream",
     "text": [
      "C:\\Users\\Admin\\anaconda3\\envs\\py\\lib\\site-packages\\seaborn\\distributions.py:2619: FutureWarning: `distplot` is a deprecated function and will be removed in a future version. Please adapt your code to use either `displot` (a figure-level function with similar flexibility) or `histplot` (an axes-level function for histograms).\n",
      "  warnings.warn(msg, FutureWarning)\n"
     ]
    },
    {
     "data": {
      "text/plain": [
       "<AxesSubplot:xlabel='Salary', ylabel='Density'>"
      ]
     },
     "execution_count": 7,
     "metadata": {},
     "output_type": "execute_result"
    },
    {
     "data": {
      "image/png": "[encoded data removed]",
      "text/plain": [
       "<Figure size 432x288 with 1 Axes>"
      ]
     },
     "metadata": {
      "needs_background": "light"
     },
     "output_type": "display_data"
    }
   ],
   "source": [
    "sns.distplot(df[\"Salary\"])"
   ]
  },
  {
   "cell_type": "markdown",
   "id": "3562cbe0",
   "metadata": {},
   "source": [
    " Both dependent and independent variables shows the linear relationship with positive correlation and with no outliers "
   ]
  },
  {
   "cell_type": "markdown",
   "id": "52152a35",
   "metadata": {},
   "source": [
    "# Divide the data into Dependent and Independent variable"
   ]
  },
  {
   "cell_type": "code",
   "execution_count": 8,
   "id": "71fe2f8c",
   "metadata": {},
   "outputs": [],
   "source": [
    "y=df[\"Salary\"]#Deapendent variable -salary\n",
    "x=df[\"YearsExperience\"]#independent variable-YearsExperience"
   ]
  },
  {
   "cell_type": "code",
   "execution_count": 9,
   "id": "c129641a",
   "metadata": {},
   "outputs": [
    {
     "data": {
      "text/plain": [
       "(30,)"
      ]
     },
     "execution_count": 9,
     "metadata": {},
     "output_type": "execute_result"
    }
   ],
   "source": [
    "x.shape#check the size of Deapendent variable"
   ]
  },
  {
   "cell_type": "code",
   "execution_count": 10,
   "id": "6d1b09f7",
   "metadata": {},
   "outputs": [
    {
     "data": {
      "text/plain": [
       "(30,)"
      ]
     },
     "execution_count": 10,
     "metadata": {},
     "output_type": "execute_result"
    }
   ],
   "source": [
    "y.shape#check the size of independent variable"
   ]
  },
  {
   "cell_type": "markdown",
   "id": "d5dd9e45",
   "metadata": {},
   "source": [
    "# Reshaping the independent Variable "
   ]
  },
  {
   "cell_type": "markdown",
   "id": "d8aa89f4",
   "metadata": {},
   "source": [
    "The Library required 2D Value for processing but the independent Variable is 1D so Covert the 1D variable into 2D Variable"
   ]
  },
  {
   "cell_type": "code",
   "execution_count": 11,
   "id": "01942ce1",
   "metadata": {},
   "outputs": [],
   "source": [
    "x_matrix=x.values.reshape(-1,1)"
   ]
  },
  {
   "cell_type": "code",
   "execution_count": 12,
   "id": "9b12e695",
   "metadata": {},
   "outputs": [],
   "source": [
    "x_train,x_test,y_train,y_test=train_test_split(x_matrix,y,test_size=0.25)#,random_state=101"
   ]
  },
  {
   "cell_type": "code",
   "execution_count": 13,
   "id": "66bb37c1",
   "metadata": {},
   "outputs": [],
   "source": [
    "#x_train"
   ]
  },
  {
   "cell_type": "code",
   "execution_count": 14,
   "id": "fcfdcacc",
   "metadata": {},
   "outputs": [],
   "source": [
    "#y_train"
   ]
  },
  {
   "cell_type": "code",
   "execution_count": 15,
   "id": "fc10a1a9",
   "metadata": {},
   "outputs": [],
   "source": [
    "#x_test"
   ]
  },
  {
   "cell_type": "code",
   "execution_count": 16,
   "id": "2c6ac4e0",
   "metadata": {},
   "outputs": [],
   "source": [
    "#y_test"
   ]
  },
  {
   "cell_type": "markdown",
   "id": "d75e3aba",
   "metadata": {},
   "source": [
    "# Bulid the LinearRegression Model"
   ]
  },
  {
   "cell_type": "code",
   "execution_count": 17,
   "id": "f2e64f9d",
   "metadata": {},
   "outputs": [],
   "source": [
    "reg=LinearRegression()#model"
   ]
  },
  {
   "cell_type": "code",
   "execution_count": 18,
   "id": "bb368c03",
   "metadata": {},
   "outputs": [
    {
     "data": {
      "text/plain": [
       "LinearRegression()"
      ]
     },
     "execution_count": 18,
     "metadata": {},
     "output_type": "execute_result"
    }
   ],
   "source": [
    "reg.fit(x_train,y_train)# best m and c value "
   ]
  },
  {
   "cell_type": "markdown",
   "id": "52d1f76b",
   "metadata": {},
   "source": [
    "# Value of Slope [m]"
   ]
  },
  {
   "cell_type": "code",
   "execution_count": 19,
   "id": "68ba8e69",
   "metadata": {},
   "outputs": [
    {
     "data": {
      "text/plain": [
       "array([9206.27646259])"
      ]
     },
     "execution_count": 19,
     "metadata": {},
     "output_type": "execute_result"
    }
   ],
   "source": [
    "reg.coef_#slope /m value"
   ]
  },
  {
   "cell_type": "markdown",
   "id": "1c7720e8",
   "metadata": {},
   "source": [
    "# Value of intercept [c]"
   ]
  },
  {
   "cell_type": "code",
   "execution_count": 20,
   "id": "23957497",
   "metadata": {},
   "outputs": [
    {
     "data": {
      "text/plain": [
       "27121.731351843824"
      ]
     },
     "execution_count": 20,
     "metadata": {},
     "output_type": "execute_result"
    }
   ],
   "source": [
    "reg.intercept_#y intercept/c"
   ]
  },
  {
   "cell_type": "markdown",
   "id": "10545bc0",
   "metadata": {},
   "source": [
    "# Prediction of model"
   ]
  },
  {
   "cell_type": "code",
   "execution_count": 21,
   "id": "81a88ae6",
   "metadata": {},
   "outputs": [],
   "source": [
    "predy=reg.predict(x_test)"
   ]
  },
  {
   "cell_type": "code",
   "execution_count": 22,
   "id": "102afbdd",
   "metadata": {},
   "outputs": [
    {
     "data": {
      "text/plain": [
       "array([ 45534.28427703,  61184.95426344, 115501.98539274,  64867.46484848,\n",
       "        40931.14604573,  75914.99660359, 121946.37891655, 102613.19834511])"
      ]
     },
     "execution_count": 22,
     "metadata": {},
     "output_type": "execute_result"
    }
   ],
   "source": [
    "predy"
   ]
  },
  {
   "cell_type": "code",
   "execution_count": 23,
   "id": "bd03b18b",
   "metadata": {},
   "outputs": [
    {
     "data": {
      "text/plain": [
       "array([[ 2. ],\n",
       "       [ 3.7],\n",
       "       [ 9.6],\n",
       "       [ 4.1],\n",
       "       [ 1.5],\n",
       "       [ 5.3],\n",
       "       [10.3],\n",
       "       [ 8.2]])"
      ]
     },
     "execution_count": 23,
     "metadata": {},
     "output_type": "execute_result"
    }
   ],
   "source": [
    "x_test"
   ]
  },
  {
   "cell_type": "code",
   "execution_count": 24,
   "id": "b4333b0f",
   "metadata": {},
   "outputs": [
    {
     "data": {
      "text/plain": [
       "array([1592188.72999268])"
      ]
     },
     "execution_count": 24,
     "metadata": {},
     "output_type": "execute_result"
    }
   ],
   "source": [
    "reg.predict(np.array(170).reshape(-1,1))"
   ]
  },
  {
   "cell_type": "code",
   "execution_count": 25,
   "id": "2bc0387f",
   "metadata": {},
   "outputs": [
    {
     "data": {
      "text/plain": [
       "0.9502035167663092"
      ]
     },
     "execution_count": 25,
     "metadata": {},
     "output_type": "execute_result"
    }
   ],
   "source": [
    "reg.score(x_train,y_train)"
   ]
  },
  {
   "cell_type": "code",
   "execution_count": 26,
   "id": "6684462a",
   "metadata": {},
   "outputs": [
    {
     "data": {
      "text/plain": [
       "0.9661483271860576"
      ]
     },
     "execution_count": 26,
     "metadata": {},
     "output_type": "execute_result"
    }
   ],
   "source": [
    "reg.score(x_test,y_test)"
   ]
  },
  {
   "cell_type": "markdown",
   "id": "2908e32c",
   "metadata": {},
   "source": [
    "# Scatter plot for Predicted all value "
   ]
  },
  {
   "cell_type": "code",
   "execution_count": 27,
   "id": "75386615",
   "metadata": {},
   "outputs": [
    {
     "data": {
      "text/plain": [
       "[<matplotlib.lines.Line2D at 0x21a62591670>]"
      ]
     },
     "execution_count": 27,
     "metadata": {},
     "output_type": "execute_result"
    },
    {
     "data": {
      "image/png": "[encoded data removed]",
      "text/plain": [
       "<Figure size 432x288 with 1 Axes>"
      ]
     },
     "metadata": {
      "needs_background": "light"
     },
     "output_type": "display_data"
    }
   ],
   "source": [
    "allpred=reg.predict(x_matrix)#predicted for all value\n",
    "df.plot(kind=\"scatter\",x=\"YearsExperience\",y=\"Salary\")#scatter plot\n",
    "plt.plot(x,allpred,c=\"red\",linewidth=2)#drawing the bestfitline"
   ]
  },
  {
   "cell_type": "markdown",
   "id": "d3858c74",
   "metadata": {},
   "source": [
    "here we can see the bestfitline for all predicted value"
   ]
  },
  {
   "cell_type": "code",
   "execution_count": 28,
   "id": "dfe0739a",
   "metadata": {},
   "outputs": [],
   "source": [
    "predy=reg.predict(x_test)\n",
    "train_predy=reg.predict(x_train)"
   ]
  },
  {
   "cell_type": "markdown",
   "id": "e3d31dad",
   "metadata": {},
   "source": [
    "# Compute the MSE"
   ]
  },
  {
   "cell_type": "code",
   "execution_count": 29,
   "id": "1949276e",
   "metadata": {},
   "outputs": [
    {
     "data": {
      "text/plain": [
       "30721664.956061736"
      ]
     },
     "execution_count": 29,
     "metadata": {},
     "output_type": "execute_result"
    }
   ],
   "source": [
    "from sklearn.metrics import mean_squared_error\n",
    "#mse for training dataset\n",
    "mse=mean_squared_error(y_train,train_predy)\n",
    "mse"
   ]
  },
  {
   "cell_type": "markdown",
   "id": "059f803a",
   "metadata": {},
   "source": [
    "# Value of RMSE"
   ]
  },
  {
   "cell_type": "code",
   "execution_count": 30,
   "id": "b4bb68b4",
   "metadata": {},
   "outputs": [
    {
     "data": {
      "text/plain": [
       "5542.712779502627"
      ]
     },
     "execution_count": 30,
     "metadata": {},
     "output_type": "execute_result"
    }
   ],
   "source": [
    "from math import sqrt\n",
    "rmse=sqrt(mse)\n",
    "rmse"
   ]
  },
  {
   "cell_type": "markdown",
   "id": "bd9b2ede",
   "metadata": {},
   "source": [
    "# MSE & RMSE for testing dataset"
   ]
  },
  {
   "cell_type": "code",
   "execution_count": 31,
   "id": "071af8ed",
   "metadata": {},
   "outputs": [
    {
     "data": {
      "text/plain": [
       "34519659.08907086"
      ]
     },
     "execution_count": 31,
     "metadata": {},
     "output_type": "execute_result"
    }
   ],
   "source": [
    "#mse for testing dataset\n",
    "mse=mean_squared_error(y_test,predy)\n",
    "mse"
   ]
  },
  {
   "cell_type": "code",
   "execution_count": 32,
   "id": "42f97a1a",
   "metadata": {},
   "outputs": [
    {
     "data": {
      "text/plain": [
       "5875.343316698256"
      ]
     },
     "execution_count": 32,
     "metadata": {},
     "output_type": "execute_result"
    }
   ],
   "source": [
    "rmse=sqrt(mse)\n",
    "rmse"
   ]
  },
  {
   "cell_type": "code",
   "execution_count": 33,
   "id": "6ecdcde4",
   "metadata": {},
   "outputs": [
    {
     "data": {
      "text/plain": [
       "0.9502035167663092"
      ]
     },
     "execution_count": 33,
     "metadata": {},
     "output_type": "execute_result"
    }
   ],
   "source": [
    "reg.score(x_train,y_train)"
   ]
  },
  {
   "cell_type": "code",
   "execution_count": 34,
   "id": "470e95bb",
   "metadata": {},
   "outputs": [
    {
     "data": {
      "text/plain": [
       "0.9661483271860576"
      ]
     },
     "execution_count": 34,
     "metadata": {},
     "output_type": "execute_result"
    }
   ],
   "source": [
    "reg.score(x_test,y_test)"
   ]
  },
  {
   "cell_type": "markdown",
   "id": "00bd6b07",
   "metadata": {},
   "source": [
    "# Accuracy of Testing & Training "
   ]
  },
  {
   "cell_type": "code",
   "execution_count": 35,
   "id": "07bf3371",
   "metadata": {},
   "outputs": [
    {
     "data": {
      "text/plain": [
       "0.9661483271860576"
      ]
     },
     "execution_count": 35,
     "metadata": {},
     "output_type": "execute_result"
    }
   ],
   "source": [
    "#testing Accuracy\n",
    "from sklearn.metrics import r2_score\n",
    "r_squared=r2_score(y_test, predy)\n",
    "r_squared"
   ]
  },
  {
   "cell_type": "markdown",
   "id": "cb9774bd",
   "metadata": {},
   "source": [
    "Accuracy of the testing data is 96.61%"
   ]
  },
  {
   "cell_type": "code",
   "execution_count": 37,
   "id": "252f83bd",
   "metadata": {},
   "outputs": [
    {
     "data": {
      "text/plain": [
       "0.9502035167663092"
      ]
     },
     "execution_count": 37,
     "metadata": {},
     "output_type": "execute_result"
    }
   ],
   "source": [
    "#training Accuracy\n",
    "from sklearn.metrics import r2_score\n",
    "r_squared=r2_score(y_train, train_predy)\n",
    "r_squared"
   ]
  },
  {
   "cell_type": "markdown",
   "id": "4778d3d0",
   "metadata": {},
   "source": [
    "Accuracy of the training data is 95.02% "
   ]
  },
  {
   "cell_type": "code",
   "execution_count": null,
   "id": "28eb45b2",
   "metadata": {},
   "outputs": [],
   "source": []
  }
 ],
 "metadata": {
  "kernelspec": {
   "display_name": "Python 3 (ipykernel)",
   "language": "python",
   "name": "python3"
  },
  "language_info": {
   "codemirror_mode": {
    "name": "ipython",
    "version": 3
   },
   "file_extension": ".py",
   "mimetype": "text/x-python",
   "name": "python",
   "nbconvert_exporter": "python",
   "pygments_lexer": "ipython3",
   "version": "3.8.11"
  }
 },
 "nbformat": 4,
 "nbformat_minor": 5
}
